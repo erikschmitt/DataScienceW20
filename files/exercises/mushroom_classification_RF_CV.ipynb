{
 "cells": [
  {
   "cell_type": "code",
   "execution_count": 1,
   "metadata": {},
   "outputs": [],
   "source": [
    "from pyspark.ml.evaluation import BinaryClassificationEvaluator\n",
    "from pyspark.ml.classification import RandomForestClassifier\n",
    "from pyspark.ml.feature import IndexToString, Normalizer, StringIndexer, VectorAssembler, VectorIndexer\n",
    "from pyspark.ml.pipeline import Pipeline\n",
    "from pyspark.ml.tuning import CrossValidator, ParamGridBuilder\n",
    "from pyspark.sql.functions import expr\n",
    "from pyspark.sql.session import SparkSession\n",
    "from pyspark.sql.types import BooleanType\n",
    "from helpers.helper_functions import translate_to_file_string\n",
    "import pandas as pd\n",
    "import numpy as np\n",
    "\n",
    "# for pretty printing\n",
    "def printDf(sprkDF): \n",
    "    newdf = sprkDF.toPandas()\n",
    "    from IPython.display import display, HTML\n",
    "    return HTML(newdf.to_html())"
   ]
  },
  {
   "cell_type": "code",
   "execution_count": 2,
   "metadata": {},
   "outputs": [],
   "source": [
    "inputFile = \"hdfs:///data/mushrooms.csv\""
   ]
  },
  {
   "cell_type": "code",
   "execution_count": 3,
   "metadata": {},
   "outputs": [],
   "source": [
    "spark = (SparkSession\n",
    "       .builder\n",
    "       .master(\"yarn\")\n",
    "       .appName(\"Mushroom/Classification\")\n",
    "       .getOrCreate())"
   ]
  },
  {
   "cell_type": "code",
   "execution_count": 4,
   "metadata": {},
   "outputs": [],
   "source": [
    "df = spark.read.option(\"header\", \"true\") \\\n",
    "       .option(\"inferSchema\", \"true\") \\\n",
    "       .option(\"delimiter\", \",\") \\\n",
    "       .csv(inputFile)"
   ]
  },
  {
   "cell_type": "markdown",
   "metadata": {},
   "source": [
    "# String- Werte in numerische Werte umwandeln"
   ]
  },
  {
   "cell_type": "code",
   "execution_count": 5,
   "metadata": {},
   "outputs": [],
   "source": [
    "labelIndexer        = StringIndexer().setInputCol(\"class\").setOutputCol(\"label\").fit(df)\n",
    "#cap_shapeIndexer    = StringIndexer().setInputCol(\"cap-shape\").setOutputCol(\"cap_shapeNUM\").fit(df)\n",
    "#cap_surfaceIndexer  = StringIndexer().setInputCol(\"cap-surface\").setOutputCol(\"cap_surfaceNUM\").fit(df)\n",
    "#cap_colorIndexer    = StringIndexer().setInputCol(\"cap-color\").setOutputCol(\"cap_colorNUM\").fit(df)\n",
    "#bruisesIndexer      = StringIndexer().setInputCol(\"bruises\").setOutputCol(\"bruisesNUM\").fit(df)\n",
    "odorIndexer         = StringIndexer().setInputCol(\"odor\").setOutputCol(\"odorNUM\").fit(df)\n",
    "#gill_attachmentIndexer  = StringIndexer().setInputCol(\"gill-attachment\").setOutputCol(\"gill_attachmentNUM\").fit(df)\n",
    "#gill_spacingIndexer     = StringIndexer().setInputCol(\"gill-spacing\").setOutputCol(\"gill_spacingNUM\").fit(df)\n",
    "gill_sizeIndexer        = StringIndexer().setInputCol(\"gill-size\").setOutputCol(\"gill_sizeNUM\").fit(df)\n",
    "gill_colorIndexer       = StringIndexer().setInputCol(\"gill-color\").setOutputCol(\"gill_colorNUM\").fit(df)\n",
    "#stalk_shapeIndexer      = StringIndexer().setInputCol(\"stalk-shape\").setOutputCol(\"stalk_shapeNUM\").fit(df)\n",
    "stalk_rootIndexer       = StringIndexer().setInputCol(\"stalk-root\").setOutputCol(\"stalk_rootNUM\").fit(df)\n",
    "#stalk_surface_above_ringIndexer  = StringIndexer().setInputCol(\"stalk-surface-above-ring\").setOutputCol(\"stalk_surface_above_ringNUM\").fit(df)\n",
    "#stalk_surface_below_ringIndexer  = StringIndexer().setInputCol(\"stalk-surface-below-ring\").setOutputCol(\"stalk_surface_below_ringNUM\").fit(df)\n",
    "#stalk_color_above_ringIndexer    = StringIndexer().setInputCol(\"stalk-color-above-ring\").setOutputCol(\"stalk_color_above_ringNUM\").fit(df)\n",
    "#stalk_color_below_ringIndexer    = StringIndexer().setInputCol(\"stalk-color-below-ring\").setOutputCol(\"stalk_color_below_ringNUM\").fit(df)\n",
    "#veil_typeIndexer            = StringIndexer().setInputCol(\"veil-type\").setOutputCol(\"veil_typeNUM\").fit(df)\n",
    "#veil_colorIndexer           = StringIndexer().setInputCol(\"veil-color\").setOutputCol(\"veil_colorNUM\").fit(df)\n",
    "#ring_numberIndexer          = StringIndexer().setInputCol(\"ring-number\").setOutputCol(\"ring_numberNUM\").fit(df)\n",
    "ring_typeIndexer            = StringIndexer().setInputCol(\"ring-type\").setOutputCol(\"ring_typeNUM\").fit(df)\n",
    "spore_print_colorIndexer    = StringIndexer().setInputCol(\"spore-print-color\").setOutputCol(\"spore_print_colorNUM\").fit(df)\n",
    "populationIndexer           = StringIndexer().setInputCol(\"population\").setOutputCol(\"populationNUM\").fit(df)\n",
    "#habitatIndexer              = StringIndexer().setInputCol(\"habitat\").setOutputCol(\"habitatNUM\").fit(df)"
   ]
  },
  {
   "cell_type": "markdown",
   "metadata": {},
   "source": [
    "Augrund den Erkenntnissen aus dem Notebook Dataunderstanding wird der Feature Vektor auf 7 Merkmale reduziert"
   ]
  },
  {
   "cell_type": "code",
   "execution_count": 6,
   "metadata": {},
   "outputs": [
    {
     "name": "stdout",
     "output_type": "stream",
     "text": [
      "['odorNUM', 'gill_sizeNUM', 'gill_colorNUM', 'stalk_rootNUM', 'ring_typeNUM', 'spore_print_colorNUM', 'populationNUM']\n"
     ]
    }
   ],
   "source": [
    "featureCols = df.columns.copy()\n",
    "featureCols.remove(\"class\")\n",
    "featureCols.remove(\"cap-shape\")\n",
    "featureCols.remove(\"cap-surface\")\n",
    "featureCols.remove(\"cap-color\")\n",
    "featureCols.remove(\"odor\")\n",
    "featureCols.remove(\"bruises\")\n",
    "featureCols.remove(\"gill-attachment\")\n",
    "featureCols.remove(\"gill-spacing\")\n",
    "featureCols.remove(\"gill-size\")\n",
    "featureCols.remove(\"gill-color\")\n",
    "featureCols.remove(\"stalk-shape\")\n",
    "featureCols.remove(\"stalk-root\")\n",
    "featureCols.remove(\"stalk-surface-above-ring\")\n",
    "featureCols.remove(\"stalk-surface-below-ring\")\n",
    "featureCols.remove(\"stalk-color-above-ring\")\n",
    "featureCols.remove(\"stalk-color-below-ring\")\n",
    "featureCols.remove(\"veil-type\")\n",
    "featureCols.remove(\"veil-color\")\n",
    "featureCols.remove(\"ring-number\")\n",
    "featureCols.remove(\"ring-type\")\n",
    "featureCols.remove(\"spore-print-color\")\n",
    "featureCols.remove(\"population\")\n",
    "featureCols.remove(\"habitat\")\n",
    "\n",
    "#featureCols = featureCols + [\"cap_shapeNUM\",\"cap_surfaceNUM\", \"cap_colorNUM\", \"bruisesNUM\", \"odorNUM\", \"gill_attachmentNUM\", \"gill_spacingNUM\", \"gill_sizeNUM\", \"gill_colorNUM\", \"stalk_shapeNUM\", \"stalk_rootNUM\", \"stalk_surface_above_ringNUM\", \"stalk_surface_below_ringNUM\", \"stalk_color_above_ringNUM\", \"stalk_color_below_ringNUM\", \"veil_colorNUM\", \"ring_numberNUM\", \"ring_typeNUM\", \"spore_print_colorNUM\", \"populationNUM\", \"habitatNUM\"]\n",
    "featureCols = featureCols + [\"odorNUM\",\"gill_sizeNUM\", \"gill_colorNUM\", \"stalk_rootNUM\", \"ring_typeNUM\", \"spore_print_colorNUM\", \"populationNUM\"]\n",
    "\n",
    "print(featureCols)\n"
   ]
  },
  {
   "cell_type": "code",
   "execution_count": 7,
   "metadata": {},
   "outputs": [],
   "source": [
    "labeledData = labelIndexer.transform(df)\n",
    "\n",
    "#labeledDataNUM = cap_shapeIndexer.transform(cap_surfaceIndexer.transform(cap_colorIndexer.transform(bruisesIndexer.transform(odorIndexer.transform(gill_attachmentIndexer.transform(gill_spacingIndexer.transform(gill_sizeIndexer.transform(gill_colorIndexer.transform(stalk_shapeIndexer.transform(stalk_rootIndexer.transform(stalk_surface_above_ringIndexer.transform(stalk_surface_below_ringIndexer.transform(stalk_color_above_ringIndexer.transform(stalk_color_below_ringIndexer.transform(veil_colorIndexer.transform(veil_typeIndexer.transform(ring_numberIndexer.transform(ring_typeIndexer.transform(spore_print_colorIndexer.transform(populationIndexer.transform(habitatIndexer.transform(labeledData))))))))))))))))))))))\n",
    "labeledDataNUM = odorIndexer.transform(gill_sizeIndexer.transform(gill_colorIndexer.transform(stalk_rootIndexer.transform(ring_typeIndexer.transform(spore_print_colorIndexer.transform(populationIndexer.transform(labeledData)))))))\n",
    "assembler =  VectorAssembler(outputCol=\"features\", inputCols=featureCols)"
   ]
  },
  {
   "cell_type": "code",
   "execution_count": 8,
   "metadata": {},
   "outputs": [],
   "source": [
    "splits = labeledDataNUM.randomSplit([0.8, 0.2 ], 12345)\n",
    "training = splits[0]\n",
    "test = splits[1]"
   ]
  },
  {
   "cell_type": "markdown",
   "metadata": {},
   "source": [
    "# Random Forest Klassifizierung mit Crossvalidation"
   ]
  },
  {
   "cell_type": "code",
   "execution_count": 9,
   "metadata": {},
   "outputs": [],
   "source": [
    "evaluatorRF = BinaryClassificationEvaluator(labelCol=\"label\",rawPredictionCol=\"prediction\", metricName=\"areaUnderROC\")"
   ]
  },
  {
   "cell_type": "code",
   "execution_count": 10,
   "metadata": {},
   "outputs": [],
   "source": [
    "rf = RandomForestClassifier(labelCol=\"label\", featuresCol=\"features\", impurity=\"gini\", minInstancesPerNode=10, subsamplingRate=0.95, seed=12345)"
   ]
  },
  {
   "cell_type": "code",
   "execution_count": 11,
   "metadata": {},
   "outputs": [],
   "source": [
    "pipeline = Pipeline(stages= [assembler, rf])"
   ]
  },
  {
   "cell_type": "code",
   "execution_count": 12,
   "metadata": {},
   "outputs": [],
   "source": [
    "paramGrid = ParamGridBuilder().addGrid(rf.numTrees, [3, 5, 10])\\\n",
    "            .addGrid(rf.maxDepth,[2,3,5,7])\\\n",
    "            .build()"
   ]
  },
  {
   "cell_type": "code",
   "execution_count": 13,
   "metadata": {},
   "outputs": [],
   "source": [
    "cvRF = CrossValidator(estimator=pipeline, evaluator=evaluatorRF, estimatorParamMaps=paramGrid, numFolds=5, parallelism=2)"
   ]
  },
  {
   "cell_type": "code",
   "execution_count": 14,
   "metadata": {},
   "outputs": [],
   "source": [
    "rfModel = cvRF.fit(training)"
   ]
  },
  {
   "cell_type": "markdown",
   "metadata": {},
   "source": [
    "## Ausgabe Ergebnisse Crossvalidation"
   ]
  },
  {
   "cell_type": "code",
   "execution_count": 15,
   "metadata": {},
   "outputs": [
    {
     "name": "stdout",
     "output_type": "stream",
     "text": [
      "Best Params: \n",
      " bootstrap: Whether bootstrap samples are used when building trees. (default: True)\n",
      "cacheNodeIds: If false, the algorithm will pass trees to executors to match instances with nodes. If true, the algorithm will cache node IDs for each instance. Caching can speed up training of deeper trees. Users can set how often should the cache be checkpointed or disable it by setting checkpointInterval. (default: False)\n",
      "checkpointInterval: set checkpoint interval (>= 1) or disable checkpoint (-1). E.g. 10 means that the cache will get checkpointed every 10 iterations. Note: this setting will be ignored if the checkpoint directory is not set in the SparkContext. (default: 10)\n",
      "featureSubsetStrategy: The number of features to consider for splits at each tree node. Supported options: 'auto' (choose automatically for task: If numTrees == 1, set to 'all'. If numTrees > 1 (forest), set to 'sqrt' for classification and to 'onethird' for regression), 'all' (use all features), 'onethird' (use 1/3 of the features), 'sqrt' (use sqrt(number of features)), 'log2' (use log2(number of features)), 'n' (when n is in the range (0, 1.0], use n * number of features. When n is in the range (1, number of features), use n features). default = 'auto' (default: auto)\n",
      "featuresCol: features column name. (default: features, current: features)\n",
      "impurity: Criterion used for information gain calculation (case-insensitive). Supported options: entropy, gini (default: gini, current: gini)\n",
      "labelCol: label column name. (default: label, current: label)\n",
      "leafCol: Leaf indices column name. Predicted leaf index of each instance in each tree by preorder. (default: )\n",
      "maxBins: Max number of bins for discretizing continuous features.  Must be >=2 and >= number of categories for any categorical feature. (default: 32)\n",
      "maxDepth: Maximum depth of the tree. (>= 0) E.g., depth 0 means 1 leaf node; depth 1 means 1 internal node + 2 leaf nodes. (default: 5, current: 7)\n",
      "maxMemoryInMB: Maximum memory in MB allocated to histogram aggregation. If too small, then 1 node will be split per iteration, and its aggregates may exceed this size. (default: 256)\n",
      "minInfoGain: Minimum information gain for a split to be considered at a tree node. (default: 0.0)\n",
      "minInstancesPerNode: Minimum number of instances each child must have after split. If a split causes the left or right child to have fewer than minInstancesPerNode, the split will be discarded as invalid. Should be >= 1. (default: 1, current: 10)\n",
      "minWeightFractionPerNode: Minimum fraction of the weighted sample count that each child must have after split. If a split causes the fraction of the total weight in the left or right child to be less than minWeightFractionPerNode, the split will be discarded as invalid. Should be in interval [0.0, 0.5). (default: 0.0)\n",
      "numTrees: Number of trees to train (>= 1). (default: 20, current: 3)\n",
      "predictionCol: prediction column name. (default: prediction)\n",
      "probabilityCol: Column name for predicted class conditional probabilities. Note: Not all models output well-calibrated probability estimates! These probabilities should be treated as confidences, not precise probabilities. (default: probability)\n",
      "rawPredictionCol: raw prediction (a.k.a. confidence) column name. (default: rawPrediction)\n",
      "seed: random seed. (default: -8556408663958351453, current: 12345)\n",
      "subsamplingRate: Fraction of the training data used for learning each decision tree, in range (0, 1]. (default: 1.0, current: 0.95)\n",
      "thresholds: Thresholds in multi-class classification to adjust the probability of predicting each class. Array must have length equal to the number of classes, with values > 0, excepting that at most one value may be 0. The class with largest value p/t is predicted, where p is the original probability of that class and t is the class's threshold. (undefined)\n",
      "weightCol: weight column name. If this is not set or empty, we treat all instance weights as 1.0. (undefined)\n",
      "Param Map: \n",
      " {Param(parent='RandomForestClassifier_7e6ec292aed9', name='bootstrap', doc='Whether bootstrap samples are used when building trees.'): True, Param(parent='RandomForestClassifier_7e6ec292aed9', name='cacheNodeIds', doc='If false, the algorithm will pass trees to executors to match instances with nodes. If true, the algorithm will cache node IDs for each instance. Caching can speed up training of deeper trees. Users can set how often should the cache be checkpointed or disable it by setting checkpointInterval.'): False, Param(parent='RandomForestClassifier_7e6ec292aed9', name='checkpointInterval', doc='set checkpoint interval (>= 1) or disable checkpoint (-1). E.g. 10 means that the cache will get checkpointed every 10 iterations. Note: this setting will be ignored if the checkpoint directory is not set in the SparkContext.'): 10, Param(parent='RandomForestClassifier_7e6ec292aed9', name='featureSubsetStrategy', doc=\"The number of features to consider for splits at each tree node. Supported options: 'auto' (choose automatically for task: If numTrees == 1, set to 'all'. If numTrees > 1 (forest), set to 'sqrt' for classification and to 'onethird' for regression), 'all' (use all features), 'onethird' (use 1/3 of the features), 'sqrt' (use sqrt(number of features)), 'log2' (use log2(number of features)), 'n' (when n is in the range (0, 1.0], use n * number of features. When n is in the range (1, number of features), use n features). default = 'auto'\"): 'auto', Param(parent='RandomForestClassifier_7e6ec292aed9', name='featuresCol', doc='features column name.'): 'features', Param(parent='RandomForestClassifier_7e6ec292aed9', name='impurity', doc='Criterion used for information gain calculation (case-insensitive). Supported options: entropy, gini'): 'gini', Param(parent='RandomForestClassifier_7e6ec292aed9', name='labelCol', doc='label column name.'): 'label', Param(parent='RandomForestClassifier_7e6ec292aed9', name='leafCol', doc='Leaf indices column name. Predicted leaf index of each instance in each tree by preorder.'): '', Param(parent='RandomForestClassifier_7e6ec292aed9', name='maxBins', doc='Max number of bins for discretizing continuous features.  Must be >=2 and >= number of categories for any categorical feature.'): 32, Param(parent='RandomForestClassifier_7e6ec292aed9', name='maxDepth', doc='Maximum depth of the tree. (>= 0) E.g., depth 0 means 1 leaf node; depth 1 means 1 internal node + 2 leaf nodes.'): 7, Param(parent='RandomForestClassifier_7e6ec292aed9', name='maxMemoryInMB', doc='Maximum memory in MB allocated to histogram aggregation. If too small, then 1 node will be split per iteration, and its aggregates may exceed this size.'): 256, Param(parent='RandomForestClassifier_7e6ec292aed9', name='minInfoGain', doc='Minimum information gain for a split to be considered at a tree node.'): 0.0, Param(parent='RandomForestClassifier_7e6ec292aed9', name='minInstancesPerNode', doc='Minimum number of instances each child must have after split. If a split causes the left or right child to have fewer than minInstancesPerNode, the split will be discarded as invalid. Should be >= 1.'): 10, Param(parent='RandomForestClassifier_7e6ec292aed9', name='minWeightFractionPerNode', doc='Minimum fraction of the weighted sample count that each child must have after split. If a split causes the fraction of the total weight in the left or right child to be less than minWeightFractionPerNode, the split will be discarded as invalid. Should be in interval [0.0, 0.5).'): 0.0, Param(parent='RandomForestClassifier_7e6ec292aed9', name='numTrees', doc='Number of trees to train (>= 1).'): 3, Param(parent='RandomForestClassifier_7e6ec292aed9', name='predictionCol', doc='prediction column name.'): 'prediction', Param(parent='RandomForestClassifier_7e6ec292aed9', name='probabilityCol', doc='Column name for predicted class conditional probabilities. Note: Not all models output well-calibrated probability estimates! These probabilities should be treated as confidences, not precise probabilities.'): 'probability', Param(parent='RandomForestClassifier_7e6ec292aed9', name='rawPredictionCol', doc='raw prediction (a.k.a. confidence) column name.'): 'rawPrediction', Param(parent='RandomForestClassifier_7e6ec292aed9', name='seed', doc='random seed.'): 12345, Param(parent='RandomForestClassifier_7e6ec292aed9', name='subsamplingRate', doc='Fraction of the training data used for learning each decision tree, in range (0, 1].'): 0.95}\n"
     ]
    }
   ],
   "source": [
    "treeModel = rfModel.bestModel.stages[1]\n",
    "print(\"Best Params: \\n\", treeModel.explainParams())\n",
    "print(\"Param Map: \\n\", treeModel.extractParamMap())"
   ]
  },
  {
   "cell_type": "code",
   "execution_count": 16,
   "metadata": {},
   "outputs": [],
   "source": [
    "predictionsRF = rfModel.transform(test)"
   ]
  },
  {
   "cell_type": "markdown",
   "metadata": {},
   "source": [
    "# Test Error und Confusion Matrix ausgeben"
   ]
  },
  {
   "cell_type": "code",
   "execution_count": 17,
   "metadata": {},
   "outputs": [
    {
     "name": "stdout",
     "output_type": "stream",
     "text": [
      "Test Error 0.0031969309462915874\n"
     ]
    }
   ],
   "source": [
    "accuracyRF = evaluatorRF.evaluate(predictionsRF)\n",
    "print(\"Test Error\", (1.0 - accuracyRF))"
   ]
  },
  {
   "cell_type": "code",
   "execution_count": 18,
   "metadata": {},
   "outputs": [
    {
     "name": "stdout",
     "output_type": "stream",
     "text": [
      "Confusion matrix: \n",
      " DenseMatrix([[840.,   0.],\n",
      "             [  5., 777.]])\n"
     ]
    }
   ],
   "source": [
    "from pyspark.mllib.evaluation import MulticlassMetrics\n",
    "predictionAndLabelsRF = predictionsRF.select(\"prediction\", \"label\").rdd.map(lambda p: [p[0], float(p[1])])\n",
    "metricsRF = MulticlassMetrics(predictionAndLabelsRF)\n",
    "confusionRF = metricsRF.confusionMatrix()\n",
    "print(\"Confusion matrix: \\n\" , confusionRF)"
   ]
  },
  {
   "cell_type": "code",
   "execution_count": null,
   "metadata": {},
   "outputs": [],
   "source": [
    "spark.stop()"
   ]
  },
  {
   "cell_type": "code",
   "execution_count": null,
   "metadata": {},
   "outputs": [],
   "source": []
  }
 ],
 "metadata": {
  "kernelspec": {
   "display_name": "venv",
   "language": "python",
   "name": "venv"
  },
  "language_info": {
   "codemirror_mode": {
    "name": "ipython",
    "version": 3
   },
   "file_extension": ".py",
   "mimetype": "text/x-python",
   "name": "python",
   "nbconvert_exporter": "python",
   "pygments_lexer": "ipython3",
   "version": "3.7.5"
  }
 },
 "nbformat": 4,
 "nbformat_minor": 2
}