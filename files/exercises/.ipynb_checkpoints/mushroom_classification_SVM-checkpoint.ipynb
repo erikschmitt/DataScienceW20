{
 "cells": [
  {
   "cell_type": "code",
   "execution_count": 1,
   "metadata": {},
   "outputs": [],
   "source": [
    "from pyspark.ml.evaluation import BinaryClassificationEvaluator\n",
    "from pyspark.ml.classification import LinearSVC, RandomForestClassifier\n",
    "from pyspark.ml.feature import IndexToString, Normalizer, StringIndexer, VectorAssembler, VectorIndexer\n",
    "from pyspark.ml.pipeline import Pipeline\n",
    "from pyspark.ml.tuning import CrossValidator, ParamGridBuilder\n",
    "from pyspark.sql.functions import expr\n",
    "from pyspark.sql.session import SparkSession\n",
    "from pyspark.sql.types import BooleanType\n",
    "from pyspark.mllib.evaluation import MulticlassMetrics\n",
    "from helpers.helper_functions import translate_to_file_string\n",
    "import pandas as pd\n",
    "import numpy as np\n",
    "\n",
    "# for pretty printing\n",
    "def printDf(sprkDF): \n",
    "    newdf = sprkDF.toPandas()\n",
    "    from IPython.display import display, HTML\n",
    "    return HTML(newdf.to_html())"
   ]
  },
  {
   "cell_type": "code",
   "execution_count": 2,
   "metadata": {},
   "outputs": [],
   "source": [
    "inputFile = \"hdfs:///data/mushrooms.csv\""
   ]
  },
  {
   "cell_type": "code",
   "execution_count": 3,
   "metadata": {},
   "outputs": [],
   "source": [
    "spark = (SparkSession\n",
    "       .builder\n",
    "       .master(\"yarn\")\n",
    "       .appName(\"Mushroom/Classification\")\n",
    "       .getOrCreate())"
   ]
  },
  {
   "cell_type": "code",
   "execution_count": 4,
   "metadata": {},
   "outputs": [],
   "source": [
    "df = spark.read.option(\"header\", \"true\") \\\n",
    "       .option(\"inferSchema\", \"true\") \\\n",
    "       .option(\"delimiter\", \",\") \\\n",
    "       .csv(inputFile)"
   ]
  },
  {
   "cell_type": "code",
   "execution_count": null,
   "metadata": {},
   "outputs": [],
   "source": [
    "## String- Werte in numerische Werte umwandeln"
   ]
  },
  {
   "cell_type": "code",
   "execution_count": 5,
   "metadata": {},
   "outputs": [],
   "source": [
    "labelIndexer        = StringIndexer().setInputCol(\"class\").setOutputCol(\"label\").fit(df)\n",
    "#cap_shapeIndexer    = StringIndexer().setInputCol(\"cap-shape\").setOutputCol(\"cap_shapeNUM\").fit(df)\n",
    "#cap_surfaceIndexer  = StringIndexer().setInputCol(\"cap-surface\").setOutputCol(\"cap_surfaceNUM\").fit(df)\n",
    "#cap_colorIndexer    = StringIndexer().setInputCol(\"cap-color\").setOutputCol(\"cap_colorNUM\").fit(df)\n",
    "#bruisesIndexer      = StringIndexer().setInputCol(\"bruises\").setOutputCol(\"bruisesNUM\").fit(df)\n",
    "odorIndexer         = StringIndexer().setInputCol(\"odor\").setOutputCol(\"odorNUM\").fit(df)\n",
    "#gill_attachmentIndexer  = StringIndexer().setInputCol(\"gill-attachment\").setOutputCol(\"gill_attachmentNUM\").fit(df)\n",
    "#gill_spacingIndexer     = StringIndexer().setInputCol(\"gill-spacing\").setOutputCol(\"gill_spacingNUM\").fit(df)\n",
    "gill_sizeIndexer        = StringIndexer().setInputCol(\"gill-size\").setOutputCol(\"gill_sizeNUM\").fit(df)\n",
    "gill_colorIndexer       = StringIndexer().setInputCol(\"gill-color\").setOutputCol(\"gill_colorNUM\").fit(df)\n",
    "#stalk_shapeIndexer      = StringIndexer().setInputCol(\"stalk-shape\").setOutputCol(\"stalk_shapeNUM\").fit(df)\n",
    "stalk_rootIndexer       = StringIndexer().setInputCol(\"stalk-root\").setOutputCol(\"stalk_rootNUM\").fit(df)\n",
    "#stalk_surface_above_ringIndexer  = StringIndexer().setInputCol(\"stalk-surface-above-ring\").setOutputCol(\"stalk_surface_above_ringNUM\").fit(df)\n",
    "#stalk_surface_below_ringIndexer  = StringIndexer().setInputCol(\"stalk-surface-below-ring\").setOutputCol(\"stalk_surface_below_ringNUM\").fit(df)\n",
    "#stalk_color_above_ringIndexer    = StringIndexer().setInputCol(\"stalk-color-above-ring\").setOutputCol(\"stalk_color_above_ringNUM\").fit(df)\n",
    "#stalk_color_below_ringIndexer    = StringIndexer().setInputCol(\"stalk-color-below-ring\").setOutputCol(\"stalk_color_below_ringNUM\").fit(df)\n",
    "#veil_typeIndexer            = StringIndexer().setInputCol(\"veil-type\").setOutputCol(\"veil_typeNUM\").fit(df)\n",
    "#veil_colorIndexer           = StringIndexer().setInputCol(\"veil-color\").setOutputCol(\"veil_colorNUM\").fit(df)\n",
    "#ring_numberIndexer          = StringIndexer().setInputCol(\"ring-number\").setOutputCol(\"ring_numberNUM\").fit(df)\n",
    "ring_typeIndexer            = StringIndexer().setInputCol(\"ring-type\").setOutputCol(\"ring_typeNUM\").fit(df)\n",
    "spore_print_colorIndexer    = StringIndexer().setInputCol(\"spore-print-color\").setOutputCol(\"spore_print_colorNUM\").fit(df)\n",
    "populationIndexer           = StringIndexer().setInputCol(\"population\").setOutputCol(\"populationNUM\").fit(df)\n",
    "#habitatIndexer              = StringIndexer().setInputCol(\"habitat\").setOutputCol(\"habitatNUM\").fit(df)"
   ]
  },
  {
   "cell_type": "markdown",
   "metadata": {},
   "source": [
    "Augrund den Erkenntnissen aus dem Notebook Dataunderstanding wird der Feature Vektor auf 7 Merkmale reduziert"
   ]
  },
  {
   "cell_type": "code",
   "execution_count": 6,
   "metadata": {},
   "outputs": [
    {
     "name": "stdout",
     "output_type": "stream",
     "text": [
      "['odorNUM', 'gill_sizeNUM', 'gill_colorNUM', 'stalk_rootNUM', 'ring_typeNUM', 'spore_print_colorNUM', 'populationNUM']\n"
     ]
    }
   ],
   "source": [
    "featureCols = df.columns.copy()\n",
    "featureCols.remove(\"class\")\n",
    "featureCols.remove(\"cap-shape\")\n",
    "featureCols.remove(\"cap-surface\")\n",
    "featureCols.remove(\"cap-color\")\n",
    "featureCols.remove(\"odor\")\n",
    "featureCols.remove(\"bruises\")\n",
    "featureCols.remove(\"gill-attachment\")\n",
    "featureCols.remove(\"gill-spacing\")\n",
    "featureCols.remove(\"gill-size\")\n",
    "featureCols.remove(\"gill-color\")\n",
    "featureCols.remove(\"stalk-shape\")\n",
    "featureCols.remove(\"stalk-root\")\n",
    "featureCols.remove(\"stalk-surface-above-ring\")\n",
    "featureCols.remove(\"stalk-surface-below-ring\")\n",
    "featureCols.remove(\"stalk-color-above-ring\")\n",
    "featureCols.remove(\"stalk-color-below-ring\")\n",
    "featureCols.remove(\"veil-type\")\n",
    "featureCols.remove(\"veil-color\")\n",
    "featureCols.remove(\"ring-number\")\n",
    "featureCols.remove(\"ring-type\")\n",
    "featureCols.remove(\"spore-print-color\")\n",
    "featureCols.remove(\"population\")\n",
    "featureCols.remove(\"habitat\")\n",
    "\n",
    "#featureCols = featureCols + [\"cap_shapeNUM\",\"cap_surfaceNUM\", \"cap_colorNUM\", \"bruisesNUM\", \"odorNUM\", \"gill_attachmentNUM\", \"gill_spacingNUM\", \"gill_sizeNUM\", \"gill_colorNUM\", \"stalk_shapeNUM\", \"stalk_rootNUM\", \"stalk_surface_above_ringNUM\", \"stalk_surface_below_ringNUM\", \"stalk_color_above_ringNUM\", \"stalk_color_below_ringNUM\", \"veil_colorNUM\", \"ring_numberNUM\", \"ring_typeNUM\", \"spore_print_colorNUM\", \"populationNUM\", \"habitatNUM\"]\n",
    "featureCols = featureCols + [\"odorNUM\",\"gill_sizeNUM\", \"gill_colorNUM\", \"stalk_rootNUM\", \"ring_typeNUM\", \"spore_print_colorNUM\", \"populationNUM\"]\n",
    "\n",
    "print(featureCols)"
   ]
  },
  {
   "cell_type": "code",
   "execution_count": 7,
   "metadata": {},
   "outputs": [],
   "source": [
    "labeledData = labelIndexer.transform(df)\n",
    "\n",
    "#labeledDataNUM = cap_shapeIndexer.transform(cap_surfaceIndexer.transform(cap_colorIndexer.transform(bruisesIndexer.transform(odorIndexer.transform(gill_attachmentIndexer.transform(gill_spacingIndexer.transform(gill_sizeIndexer.transform(gill_colorIndexer.transform(stalk_shapeIndexer.transform(stalk_rootIndexer.transform(stalk_surface_above_ringIndexer.transform(stalk_surface_below_ringIndexer.transform(stalk_color_above_ringIndexer.transform(stalk_color_below_ringIndexer.transform(veil_colorIndexer.transform(veil_typeIndexer.transform(ring_numberIndexer.transform(ring_typeIndexer.transform(spore_print_colorIndexer.transform(populationIndexer.transform(habitatIndexer.transform(labeledData))))))))))))))))))))))\n",
    "labeledDataNUM = odorIndexer.transform(gill_sizeIndexer.transform(gill_colorIndexer.transform(stalk_rootIndexer.transform(ring_typeIndexer.transform(spore_print_colorIndexer.transform(populationIndexer.transform(labeledData)))))))\n",
    "assembler =  VectorAssembler(outputCol=\"features\", inputCols=featureCols)"
   ]
  },
  {
   "cell_type": "code",
   "execution_count": 16,
   "metadata": {},
   "outputs": [],
   "source": [
    "labeledPointData = assembler.transform(labeledDataNUM)\n"
   ]
  },
  {
   "cell_type": "code",
   "execution_count": 9,
   "metadata": {},
   "outputs": [],
   "source": [
    "splits = labeledPointData.randomSplit([0.9, 0.1 ], 12345)\n",
    "training = splits[0]\n",
    "test = splits[1]"
   ]
  },
  {
   "cell_type": "code",
   "execution_count": null,
   "metadata": {},
   "outputs": [],
   "source": [
    "## SVM Klassifizierung"
   ]
  },
  {
   "cell_type": "code",
   "execution_count": 10,
   "metadata": {},
   "outputs": [],
   "source": [
    "evaluator = BinaryClassificationEvaluator(labelCol=\"label\",rawPredictionCol=\"prediction\", metricName=\"areaUnderROC\")\n",
    "lsvc = LinearSVC(labelCol=\"label\",aggregationDepth=2, featuresCol=\"features\") "
   ]
  },
  {
   "cell_type": "code",
   "execution_count": 11,
   "metadata": {},
   "outputs": [],
   "source": [
    "SVMModel = lsvc.fit(training)"
   ]
  },
  {
   "cell_type": "code",
   "execution_count": 12,
   "metadata": {},
   "outputs": [],
   "source": [
    "predictions = SVMModel.transform(test)"
   ]
  },
  {
   "cell_type": "code",
   "execution_count": null,
   "metadata": {},
   "outputs": [],
   "source": [
    "## Test Error und Confusion Matrix ausgeben"
   ]
  },
  {
   "cell_type": "code",
   "execution_count": 13,
   "metadata": {},
   "outputs": [
    {
     "name": "stdout",
     "output_type": "stream",
     "text": [
      "Test Error 0.0741130393763344\n"
     ]
    }
   ],
   "source": [
    "accuracy = evaluator.evaluate(predictions)\n",
    "print(\"Test Error\", (1.0 - accuracy))"
   ]
  },
  {
   "cell_type": "code",
   "execution_count": 14,
   "metadata": {},
   "outputs": [],
   "source": [
    "predictionAndLabels = predictions.select(\"prediction\", \"label\").rdd.map(lambda p: [p[0], float(p[1])])\n",
    "metrics = MulticlassMetrics(predictionAndLabels)"
   ]
  },
  {
   "cell_type": "code",
   "execution_count": 15,
   "metadata": {},
   "outputs": [
    {
     "name": "stdout",
     "output_type": "stream",
     "text": [
      "Confusion matrix: \n",
      " DenseMatrix([[373.,  19.],\n",
      "             [ 41., 370.]])\n"
     ]
    }
   ],
   "source": [
    "confusion = metrics.confusionMatrix()\n",
    "print(\"Confusion matrix: \\n\" , confusion)"
   ]
  },
  {
   "cell_type": "code",
   "execution_count": null,
   "metadata": {},
   "outputs": [],
   "source": [
    "spark.stop()"
   ]
  }
 ],
 "metadata": {
  "kernelspec": {
   "display_name": "venv",
   "language": "python",
   "name": "venv"
  },
  "language_info": {
   "codemirror_mode": {
    "name": "ipython",
    "version": 3
   },
   "file_extension": ".py",
   "mimetype": "text/x-python",
   "name": "python",
   "nbconvert_exporter": "python",
   "pygments_lexer": "ipython3",
   "version": "3.7.5"
  }
 },
 "nbformat": 4,
 "nbformat_minor": 2
}
